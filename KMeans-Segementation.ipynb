{
 "cells": [
  {
   "cell_type": "markdown",
   "metadata": {},
   "source": [
    "## K - Means Clustering \n",
    "\n",
    "Process:\n",
    "\n",
    "1) Understanding the Data<br>\n",
    "2) Performing Elbow method to find Optimal Number of Clusters<br>\n",
    "3) Training Model using unsupervised Learning <br>\n",
    "5) Plotting Clusters<br>"
   ]
  },
  {
   "cell_type": "markdown",
   "metadata": {},
   "source": [
    "#### Importing the required packages"
   ]
  },
  {
   "cell_type": "code",
   "execution_count": 4,
   "metadata": {},
   "outputs": [],
   "source": [
    "import pandas as pd\n",
    "import numpy as np\n",
    "\n",
    "import matplotlib.pyplot as plt\n",
    "%matplotlib inline\n",
    "\n",
    "import seaborn as sns\n",
    "\n",
    "from sklearn.cluster import KMeans"
   ]
  },
  {
   "cell_type": "markdown",
   "metadata": {},
   "source": [
    "### Importing the Data\n",
    "\n",
    "* I have merged the data and created a single dataframe consisting customer transaction, sales,customer demographics and product sales in previous notebook. -> data variable\n",
    "* I have also created a customer centric dataframe manipulated from the above mentioned data frame -> cust_df"
   ]
  },
  {
   "cell_type": "markdown",
   "metadata": {},
   "source": [
    "#### Data - df"
   ]
  },
  {
   "cell_type": "code",
   "execution_count": 5,
   "metadata": {},
   "outputs": [],
   "source": [
    "data = pd.read_csv(\"Merged_Data.csv\")"
   ]
  },
  {
   "cell_type": "code",
   "execution_count": 6,
   "metadata": {},
   "outputs": [],
   "source": [
    "data =data.drop(columns='Unnamed: 0')"
   ]
  },
  {
   "cell_type": "code",
   "execution_count": 121,
   "metadata": {},
   "outputs": [
    {
     "data": {
      "text/html": [
       "<div>\n",
       "<style scoped>\n",
       "    .dataframe tbody tr th:only-of-type {\n",
       "        vertical-align: middle;\n",
       "    }\n",
       "\n",
       "    .dataframe tbody tr th {\n",
       "        vertical-align: top;\n",
       "    }\n",
       "\n",
       "    .dataframe thead th {\n",
       "        text-align: right;\n",
       "    }\n",
       "</style>\n",
       "<table border=\"1\" class=\"dataframe\">\n",
       "  <thead>\n",
       "    <tr style=\"text-align: right;\">\n",
       "      <th></th>\n",
       "      <th>CustomerID</th>\n",
       "      <th>Gender</th>\n",
       "      <th>Location</th>\n",
       "      <th>Tenure_Months</th>\n",
       "      <th>Transaction_ID</th>\n",
       "      <th>Transaction_Date</th>\n",
       "      <th>Product_SKU</th>\n",
       "      <th>Product_Description</th>\n",
       "      <th>Product_Category</th>\n",
       "      <th>Quantity</th>\n",
       "      <th>Avg_Price</th>\n",
       "      <th>Delivery_Charges</th>\n",
       "      <th>Coupon_Status</th>\n",
       "      <th>Month</th>\n",
       "      <th>GST</th>\n",
       "      <th>Coupon_Code</th>\n",
       "      <th>Discount_pct</th>\n",
       "      <th>discount_amount</th>\n",
       "      <th>gst_amount</th>\n",
       "      <th>Invoice_Amount</th>\n",
       "      <th>year</th>\n",
       "    </tr>\n",
       "  </thead>\n",
       "  <tbody>\n",
       "    <tr>\n",
       "      <th>0</th>\n",
       "      <td>17850</td>\n",
       "      <td>M</td>\n",
       "      <td>Chicago</td>\n",
       "      <td>12</td>\n",
       "      <td>16679</td>\n",
       "      <td>2019-01-01</td>\n",
       "      <td>GGOENEBJ079499</td>\n",
       "      <td>Nest Learning Thermostat 3rd Gen-USA - Stainle...</td>\n",
       "      <td>Nest-USA</td>\n",
       "      <td>1</td>\n",
       "      <td>153.71</td>\n",
       "      <td>6.5</td>\n",
       "      <td>Used</td>\n",
       "      <td>Jan</td>\n",
       "      <td>0.1</td>\n",
       "      <td>ELEC10</td>\n",
       "      <td>10.0</td>\n",
       "      <td>15.371</td>\n",
       "      <td>0.15371</td>\n",
       "      <td>158.6729</td>\n",
       "      <td>2019</td>\n",
       "    </tr>\n",
       "    <tr>\n",
       "      <th>1</th>\n",
       "      <td>17850</td>\n",
       "      <td>M</td>\n",
       "      <td>Chicago</td>\n",
       "      <td>12</td>\n",
       "      <td>16680</td>\n",
       "      <td>2019-01-01</td>\n",
       "      <td>GGOENEBJ079499</td>\n",
       "      <td>Nest Learning Thermostat 3rd Gen-USA - Stainle...</td>\n",
       "      <td>Nest-USA</td>\n",
       "      <td>1</td>\n",
       "      <td>153.71</td>\n",
       "      <td>6.5</td>\n",
       "      <td>Used</td>\n",
       "      <td>Jan</td>\n",
       "      <td>0.1</td>\n",
       "      <td>ELEC10</td>\n",
       "      <td>10.0</td>\n",
       "      <td>15.371</td>\n",
       "      <td>0.15371</td>\n",
       "      <td>158.6729</td>\n",
       "      <td>2019</td>\n",
       "    </tr>\n",
       "  </tbody>\n",
       "</table>\n",
       "</div>"
      ],
      "text/plain": [
       "   CustomerID Gender Location  Tenure_Months  Transaction_ID Transaction_Date  \\\n",
       "0       17850      M  Chicago             12           16679       2019-01-01   \n",
       "1       17850      M  Chicago             12           16680       2019-01-01   \n",
       "\n",
       "      Product_SKU                                Product_Description  \\\n",
       "0  GGOENEBJ079499  Nest Learning Thermostat 3rd Gen-USA - Stainle...   \n",
       "1  GGOENEBJ079499  Nest Learning Thermostat 3rd Gen-USA - Stainle...   \n",
       "\n",
       "  Product_Category  Quantity  Avg_Price  Delivery_Charges Coupon_Status Month  \\\n",
       "0         Nest-USA         1     153.71               6.5          Used   Jan   \n",
       "1         Nest-USA         1     153.71               6.5          Used   Jan   \n",
       "\n",
       "   GST Coupon_Code  Discount_pct  discount_amount  gst_amount  Invoice_Amount  \\\n",
       "0  0.1      ELEC10          10.0           15.371     0.15371        158.6729   \n",
       "1  0.1      ELEC10          10.0           15.371     0.15371        158.6729   \n",
       "\n",
       "   year  \n",
       "0  2019  \n",
       "1  2019  "
      ]
     },
     "execution_count": 121,
     "metadata": {},
     "output_type": "execute_result"
    }
   ],
   "source": [
    "data.head(2)"
   ]
  },
  {
   "cell_type": "markdown",
   "metadata": {},
   "source": [
    "#### Customer centric Data Frame"
   ]
  },
  {
   "cell_type": "code",
   "execution_count": 67,
   "metadata": {},
   "outputs": [],
   "source": [
    "cust_df = pd.read_csv(\"customer_df1.csv\")"
   ]
  },
  {
   "cell_type": "code",
   "execution_count": 68,
   "metadata": {},
   "outputs": [],
   "source": [
    "cust_df.head()\n",
    "cust_df =cust_df.drop(columns='Unnamed: 0')"
   ]
  },
  {
   "cell_type": "code",
   "execution_count": 69,
   "metadata": {},
   "outputs": [],
   "source": [
    "cust_df = cust_df.drop(columns=['R_Quantile','F_Quantile','M_Quantile','Transaction_Date'])"
   ]
  },
  {
   "cell_type": "code",
   "execution_count": 124,
   "metadata": {},
   "outputs": [
    {
     "data": {
      "text/html": [
       "<div>\n",
       "<style scoped>\n",
       "    .dataframe tbody tr th:only-of-type {\n",
       "        vertical-align: middle;\n",
       "    }\n",
       "\n",
       "    .dataframe tbody tr th {\n",
       "        vertical-align: top;\n",
       "    }\n",
       "\n",
       "    .dataframe thead th {\n",
       "        text-align: right;\n",
       "    }\n",
       "</style>\n",
       "<table border=\"1\" class=\"dataframe\">\n",
       "  <thead>\n",
       "    <tr style=\"text-align: right;\">\n",
       "      <th></th>\n",
       "      <th>CustomerID</th>\n",
       "      <th>Quantity</th>\n",
       "      <th>Monetary</th>\n",
       "      <th>Product_SKU_Count</th>\n",
       "      <th>Prod_Cat_Count</th>\n",
       "      <th>Recency</th>\n",
       "      <th>Discount_pct</th>\n",
       "      <th>Frequency</th>\n",
       "      <th>Cluster_3</th>\n",
       "      <th>Cluster_4</th>\n",
       "      <th>Cluster_5</th>\n",
       "    </tr>\n",
       "  </thead>\n",
       "  <tbody>\n",
       "    <tr>\n",
       "      <th>0</th>\n",
       "      <td>12346</td>\n",
       "      <td>3</td>\n",
       "      <td>174.98174</td>\n",
       "      <td>2</td>\n",
       "      <td>2</td>\n",
       "      <td>108</td>\n",
       "      <td>30.000000</td>\n",
       "      <td>2</td>\n",
       "      <td>0</td>\n",
       "      <td>0</td>\n",
       "      <td>2</td>\n",
       "    </tr>\n",
       "    <tr>\n",
       "      <th>1</th>\n",
       "      <td>12347</td>\n",
       "      <td>340</td>\n",
       "      <td>12059.17780</td>\n",
       "      <td>59</td>\n",
       "      <td>9</td>\n",
       "      <td>60</td>\n",
       "      <td>25.084746</td>\n",
       "      <td>59</td>\n",
       "      <td>1</td>\n",
       "      <td>3</td>\n",
       "      <td>3</td>\n",
       "    </tr>\n",
       "  </tbody>\n",
       "</table>\n",
       "</div>"
      ],
      "text/plain": [
       "   CustomerID  Quantity     Monetary  Product_SKU_Count  Prod_Cat_Count  \\\n",
       "0       12346         3    174.98174                  2               2   \n",
       "1       12347       340  12059.17780                 59               9   \n",
       "\n",
       "   Recency  Discount_pct  Frequency  Cluster_3  Cluster_4  Cluster_5  \n",
       "0      108     30.000000          2          0          0          2  \n",
       "1       60     25.084746         59          1          3          3  "
      ]
     },
     "execution_count": 124,
     "metadata": {},
     "output_type": "execute_result"
    }
   ],
   "source": [
    "cust_df.head(2)"
   ]
  },
  {
   "cell_type": "markdown",
   "metadata": {},
   "source": [
    "## <font color =\"Violet\"> Analysis for Chossing K  - Number of Clusters</font>\n",
    "\n"
   ]
  },
  {
   "cell_type": "markdown",
   "metadata": {},
   "source": [
    "###  Plotting Cluster error with number of clusters"
   ]
  },
  {
   "cell_type": "code",
   "execution_count": 72,
   "metadata": {},
   "outputs": [],
   "source": [
    "wcss=[] # within Cluster sum of squares distance between data point and centroid - Segment Inertia"
   ]
  },
  {
   "cell_type": "code",
   "execution_count": 73,
   "metadata": {},
   "outputs": [
    {
     "name": "stderr",
     "output_type": "stream",
     "text": [
      "c:\\ProgramData\\Anaconda3\\lib\\site-packages\\sklearn\\cluster\\_kmeans.py:1036: UserWarning: KMeans is known to have a memory leak on Windows with MKL, when there are less chunks than available threads. You can avoid it by setting the environment variable OMP_NUM_THREADS=6.\n",
      "  warnings.warn(\n"
     ]
    }
   ],
   "source": [
    "# Finding optimal value of K\n",
    "\n",
    "for i in range(1,11):\n",
    "    kmeans = KMeans(n_clusters=i, init='k-means++',random_state=0)\n",
    "    kmeans.fit(cust_df)\n",
    "    wcss.append(kmeans.inertia_)"
   ]
  },
  {
   "cell_type": "code",
   "execution_count": 126,
   "metadata": {},
   "outputs": [
    {
     "data": {
      "image/png": "[encoded data removed]",
      "text/plain": [
       "<Figure size 432x288 with 1 Axes>"
      ]
     },
     "metadata": {
      "needs_background": "light"
     },
     "output_type": "display_data"
    }
   ],
   "source": [
    "plt.plot(range(1,11,1),wcss,marker='o')\n",
    "plt.grid()\n",
    "plt.title(\"Elbow Curve\")\n",
    "plt.xlabel(\"Number of Clusters\")\n",
    "plt.ylabel(\"WCSS values \\ Cluster Errors\")\n",
    "plt.show()"
   ]
  },
  {
   "cell_type": "markdown",
   "metadata": {},
   "source": [
    "<font color='orange'>Observation</font> :Looks like K=3 has less cluseter erorr but the elbow occurs in k=5"
   ]
  },
  {
   "cell_type": "markdown",
   "metadata": {},
   "source": [
    "### Plotting Silhoutte score with number of clusters"
   ]
  },
  {
   "cell_type": "code",
   "execution_count": 75,
   "metadata": {},
   "outputs": [],
   "source": [
    "from sklearn.metrics import silhouette_score\n"
   ]
  },
  {
   "cell_type": "code",
   "execution_count": 76,
   "metadata": {},
   "outputs": [],
   "source": [
    "silhouette=[]# sc score\n",
    "k=[]#Number of clusters \n",
    "for i in range(3,11):\n",
    "    kmeans = KMeans(n_clusters=i, init='k-means++',random_state=0)\n",
    "    kmeans.fit(cust_df)\n",
    "    silhouette.append(silhouette_score(cust_df,kmeans.labels_))\n",
    "    k.append(i)\n",
    "\n"
   ]
  },
  {
   "cell_type": "code",
   "execution_count": 77,
   "metadata": {},
   "outputs": [],
   "source": [
    "silhoute_df = pd.DataFrame({\"K\":k,\"silhouette_score\":silhouette})\n"
   ]
  },
  {
   "cell_type": "code",
   "execution_count": 78,
   "metadata": {},
   "outputs": [
    {
     "data": {
      "text/html": [
       "<div>\n",
       "<style scoped>\n",
       "    .dataframe tbody tr th:only-of-type {\n",
       "        vertical-align: middle;\n",
       "    }\n",
       "\n",
       "    .dataframe tbody tr th {\n",
       "        vertical-align: top;\n",
       "    }\n",
       "\n",
       "    .dataframe thead th {\n",
       "        text-align: right;\n",
       "    }\n",
       "</style>\n",
       "<table border=\"1\" class=\"dataframe\">\n",
       "  <thead>\n",
       "    <tr style=\"text-align: right;\">\n",
       "      <th></th>\n",
       "      <th>K</th>\n",
       "      <th>silhouette_score</th>\n",
       "    </tr>\n",
       "  </thead>\n",
       "  <tbody>\n",
       "    <tr>\n",
       "      <th>0</th>\n",
       "      <td>3</td>\n",
       "      <td>0.591733</td>\n",
       "    </tr>\n",
       "    <tr>\n",
       "      <th>1</th>\n",
       "      <td>4</td>\n",
       "      <td>0.515106</td>\n",
       "    </tr>\n",
       "    <tr>\n",
       "      <th>4</th>\n",
       "      <td>7</td>\n",
       "      <td>0.420755</td>\n",
       "    </tr>\n",
       "    <tr>\n",
       "      <th>3</th>\n",
       "      <td>6</td>\n",
       "      <td>0.419619</td>\n",
       "    </tr>\n",
       "    <tr>\n",
       "      <th>2</th>\n",
       "      <td>5</td>\n",
       "      <td>0.418496</td>\n",
       "    </tr>\n",
       "    <tr>\n",
       "      <th>6</th>\n",
       "      <td>9</td>\n",
       "      <td>0.396333</td>\n",
       "    </tr>\n",
       "    <tr>\n",
       "      <th>5</th>\n",
       "      <td>8</td>\n",
       "      <td>0.380454</td>\n",
       "    </tr>\n",
       "    <tr>\n",
       "      <th>7</th>\n",
       "      <td>10</td>\n",
       "      <td>0.375058</td>\n",
       "    </tr>\n",
       "  </tbody>\n",
       "</table>\n",
       "</div>"
      ],
      "text/plain": [
       "    K  silhouette_score\n",
       "0   3          0.591733\n",
       "1   4          0.515106\n",
       "4   7          0.420755\n",
       "3   6          0.419619\n",
       "2   5          0.418496\n",
       "6   9          0.396333\n",
       "5   8          0.380454\n",
       "7  10          0.375058"
      ]
     },
     "execution_count": 78,
     "metadata": {},
     "output_type": "execute_result"
    }
   ],
   "source": [
    "silhoute_df.sort_values(by='silhouette_score',ascending=False)"
   ]
  },
  {
   "cell_type": "code",
   "execution_count": 79,
   "metadata": {},
   "outputs": [
    {
     "data": {
      "image/png": "[encoded data removed]",
      "text/plain": [
       "<Figure size 432x288 with 1 Axes>"
      ]
     },
     "metadata": {
      "needs_background": "light"
     },
     "output_type": "display_data"
    }
   ],
   "source": [
    "plt.plot(range(3,11,1),silhouette,marker='o')\n",
    "plt.grid()\n",
    "plt.title(\"Elbow Curve\")\n",
    "plt.xlabel(\"Number of Clusters\")\n",
    "plt.ylabel(\"Silhouette values\")\n",
    "plt.show()"
   ]
  },
  {
   "cell_type": "markdown",
   "metadata": {},
   "source": [
    "<font color='orange'>Observation</font> :Looks like K=3 has high silhouette score"
   ]
  },
  {
   "cell_type": "markdown",
   "metadata": {},
   "source": [
    "### Checking for the percentage of dictribution among clusters 3 to 5"
   ]
  },
  {
   "cell_type": "code",
   "execution_count": 84,
   "metadata": {},
   "outputs": [],
   "source": [
    "cluster=\"Cluster_\"\n",
    "for i in range(3,6):\n",
    "    cluster=\"Cluster_\"\n",
    "    kmeans = KMeans(n_clusters=i, init='k-means++',random_state=0)\n",
    "    kmeans.fit(cust_df)\n",
    "    #silhouette.append(silhouette_score(cust_df,kmeans.labels_))\n",
    "    #k.append(i)\n",
    "    cluster=cluster+str(i)\n",
    "    cust_df[cluster]=pd.Series(kmeans.labels_)\n",
    "\n"
   ]
  },
  {
   "cell_type": "markdown",
   "metadata": {},
   "source": [
    "### Checking if clusters rage between 4 to 40 percent of obs"
   ]
  },
  {
   "cell_type": "code",
   "execution_count": 127,
   "metadata": {},
   "outputs": [
    {
     "data": {
      "text/plain": [
       "0    83.923706\n",
       "1    15.667575\n",
       "2     0.408719\n",
       "Name: Cluster_3, dtype: float64"
      ]
     },
     "execution_count": 127,
     "metadata": {},
     "output_type": "execute_result"
    }
   ],
   "source": [
    "#Cluster 3 \n",
    "cust_df.Cluster_3.value_counts()/cust_df.Cluster_3.shape[0]*100"
   ]
  },
  {
   "cell_type": "code",
   "execution_count": 86,
   "metadata": {},
   "outputs": [
    {
     "data": {
      "text/plain": [
       "0    77.179837\n",
       "3    20.163488\n",
       "1     2.316076\n",
       "2     0.340599\n",
       "Name: Cluster_4, dtype: float64"
      ]
     },
     "execution_count": 86,
     "metadata": {},
     "output_type": "execute_result"
    }
   ],
   "source": [
    "#Cluster 4\n",
    "cust_df.Cluster_4.value_counts()/cust_df.Cluster_4.shape[0]*100"
   ]
  },
  {
   "cell_type": "code",
   "execution_count": 128,
   "metadata": {},
   "outputs": [
    {
     "data": {
      "text/plain": [
       "2    40.803815\n",
       "0    38.828338\n",
       "3    17.847411\n",
       "4     2.179837\n",
       "1     0.340599\n",
       "Name: Cluster_5, dtype: float64"
      ]
     },
     "execution_count": 128,
     "metadata": {},
     "output_type": "execute_result"
    }
   ],
   "source": [
    "#Cluster 5\n",
    "cust_df.Cluster_5.value_counts()/cust_df.Cluster_5.shape[0]*100"
   ]
  },
  {
   "cell_type": "markdown",
   "metadata": {},
   "source": [
    "<font color =\"Orange\">Observation :</font> Cluster 5 doesn't have any big clusters as compared to 3 and 4 segmentations"
   ]
  },
  {
   "cell_type": "code",
   "execution_count": 88,
   "metadata": {},
   "outputs": [],
   "source": [
    "cluster_5 =cust_df.drop(columns=['CustomerID','Cluster_3','Cluster_4'])"
   ]
  },
  {
   "cell_type": "code",
   "execution_count": 98,
   "metadata": {},
   "outputs": [],
   "source": [
    "k_seg =cluster_5.pivot_table(index=\"Cluster_5\", aggfunc=\"mean\").sort_values(by=\"Monetary\").reset_index()"
   ]
  },
  {
   "cell_type": "markdown",
   "metadata": {},
   "source": [
    "# <font color =\"Yellow\">Segement Profiling </font>\n",
    "Using K = 5"
   ]
  },
  {
   "cell_type": "code",
   "execution_count": 99,
   "metadata": {},
   "outputs": [
    {
     "data": {
      "text/html": [
       "<div>\n",
       "<style scoped>\n",
       "    .dataframe tbody tr th:only-of-type {\n",
       "        vertical-align: middle;\n",
       "    }\n",
       "\n",
       "    .dataframe tbody tr th {\n",
       "        vertical-align: top;\n",
       "    }\n",
       "\n",
       "    .dataframe thead th {\n",
       "        text-align: right;\n",
       "    }\n",
       "</style>\n",
       "<table border=\"1\" class=\"dataframe\">\n",
       "  <thead>\n",
       "    <tr style=\"text-align: right;\">\n",
       "      <th></th>\n",
       "      <th>Cluster_5</th>\n",
       "      <th>Discount_pct</th>\n",
       "      <th>Frequency</th>\n",
       "      <th>Monetary</th>\n",
       "      <th>Prod_Cat_Count</th>\n",
       "      <th>Product_SKU_Count</th>\n",
       "      <th>Quantity</th>\n",
       "      <th>Recency</th>\n",
       "    </tr>\n",
       "  </thead>\n",
       "  <tbody>\n",
       "    <tr>\n",
       "      <th>0</th>\n",
       "      <td>2</td>\n",
       "      <td>20.342321</td>\n",
       "      <td>19.691152</td>\n",
       "      <td>1539.885161</td>\n",
       "      <td>5.020033</td>\n",
       "      <td>19.691152</td>\n",
       "      <td>79.831386</td>\n",
       "      <td>143.472454</td>\n",
       "    </tr>\n",
       "    <tr>\n",
       "      <th>1</th>\n",
       "      <td>0</td>\n",
       "      <td>20.237693</td>\n",
       "      <td>20.152632</td>\n",
       "      <td>1550.708266</td>\n",
       "      <td>4.922807</td>\n",
       "      <td>20.152632</td>\n",
       "      <td>80.257895</td>\n",
       "      <td>165.873684</td>\n",
       "    </tr>\n",
       "    <tr>\n",
       "      <th>2</th>\n",
       "      <td>3</td>\n",
       "      <td>19.104497</td>\n",
       "      <td>78.072519</td>\n",
       "      <td>7406.454289</td>\n",
       "      <td>8.847328</td>\n",
       "      <td>78.072519</td>\n",
       "      <td>350.526718</td>\n",
       "      <td>115.007634</td>\n",
       "    </tr>\n",
       "    <tr>\n",
       "      <th>3</th>\n",
       "      <td>4</td>\n",
       "      <td>19.085294</td>\n",
       "      <td>183.375000</td>\n",
       "      <td>19440.227513</td>\n",
       "      <td>11.312500</td>\n",
       "      <td>183.375000</td>\n",
       "      <td>1066.093750</td>\n",
       "      <td>78.687500</td>\n",
       "    </tr>\n",
       "    <tr>\n",
       "      <th>4</th>\n",
       "      <td>1</td>\n",
       "      <td>19.772292</td>\n",
       "      <td>583.800000</td>\n",
       "      <td>61737.798218</td>\n",
       "      <td>14.800000</td>\n",
       "      <td>583.800000</td>\n",
       "      <td>3369.600000</td>\n",
       "      <td>30.200000</td>\n",
       "    </tr>\n",
       "  </tbody>\n",
       "</table>\n",
       "</div>"
      ],
      "text/plain": [
       "   Cluster_5  Discount_pct   Frequency      Monetary  Prod_Cat_Count  \\\n",
       "0          2     20.342321   19.691152   1539.885161        5.020033   \n",
       "1          0     20.237693   20.152632   1550.708266        4.922807   \n",
       "2          3     19.104497   78.072519   7406.454289        8.847328   \n",
       "3          4     19.085294  183.375000  19440.227513       11.312500   \n",
       "4          1     19.772292  583.800000  61737.798218       14.800000   \n",
       "\n",
       "   Product_SKU_Count     Quantity     Recency  \n",
       "0          19.691152    79.831386  143.472454  \n",
       "1          20.152632    80.257895  165.873684  \n",
       "2          78.072519   350.526718  115.007634  \n",
       "3         183.375000  1066.093750   78.687500  \n",
       "4         583.800000  3369.600000   30.200000  "
      ]
     },
     "execution_count": 99,
     "metadata": {},
     "output_type": "execute_result"
    }
   ],
   "source": [
    "k_seg"
   ]
  },
  {
   "cell_type": "code",
   "execution_count": 116,
   "metadata": {},
   "outputs": [],
   "source": [
    "cluster_5[\"Type\"]= np.where(cluster_5['Cluster_5']==0,\"Standard\",np.where(cluster_5['Cluster_5']==1,\"Platinum\",\n",
    "\n",
    "np.where(cluster_5[\"Cluster_5\"]==4,\"Gold\",np.where(cluster_5['Cluster_5']==2,\"Occaisonal_Cust\",\"Silver\"))))"
   ]
  },
  {
   "cell_type": "code",
   "execution_count": 117,
   "metadata": {},
   "outputs": [
    {
     "data": {
      "text/html": [
       "<div>\n",
       "<style scoped>\n",
       "    .dataframe tbody tr th:only-of-type {\n",
       "        vertical-align: middle;\n",
       "    }\n",
       "\n",
       "    .dataframe tbody tr th {\n",
       "        vertical-align: top;\n",
       "    }\n",
       "\n",
       "    .dataframe thead th {\n",
       "        text-align: right;\n",
       "    }\n",
       "</style>\n",
       "<table border=\"1\" class=\"dataframe\">\n",
       "  <thead>\n",
       "    <tr style=\"text-align: right;\">\n",
       "      <th></th>\n",
       "      <th>Quantity</th>\n",
       "      <th>Monetary</th>\n",
       "      <th>Product_SKU_Count</th>\n",
       "      <th>Prod_Cat_Count</th>\n",
       "      <th>Recency</th>\n",
       "      <th>Discount_pct</th>\n",
       "      <th>Frequency</th>\n",
       "      <th>Cluster_5</th>\n",
       "    </tr>\n",
       "    <tr>\n",
       "      <th>Type</th>\n",
       "      <th></th>\n",
       "      <th></th>\n",
       "      <th></th>\n",
       "      <th></th>\n",
       "      <th></th>\n",
       "      <th></th>\n",
       "      <th></th>\n",
       "      <th></th>\n",
       "    </tr>\n",
       "  </thead>\n",
       "  <tbody>\n",
       "    <tr>\n",
       "      <th>Platinum</th>\n",
       "      <td>3369.60</td>\n",
       "      <td>61737.80</td>\n",
       "      <td>583.80</td>\n",
       "      <td>14.80</td>\n",
       "      <td>30.20</td>\n",
       "      <td>19.77</td>\n",
       "      <td>583.80</td>\n",
       "      <td>1.0</td>\n",
       "    </tr>\n",
       "    <tr>\n",
       "      <th>Gold</th>\n",
       "      <td>1066.09</td>\n",
       "      <td>19440.23</td>\n",
       "      <td>183.38</td>\n",
       "      <td>11.31</td>\n",
       "      <td>78.69</td>\n",
       "      <td>19.09</td>\n",
       "      <td>183.38</td>\n",
       "      <td>4.0</td>\n",
       "    </tr>\n",
       "    <tr>\n",
       "      <th>Silver</th>\n",
       "      <td>350.53</td>\n",
       "      <td>7406.45</td>\n",
       "      <td>78.07</td>\n",
       "      <td>8.85</td>\n",
       "      <td>115.01</td>\n",
       "      <td>19.10</td>\n",
       "      <td>78.07</td>\n",
       "      <td>3.0</td>\n",
       "    </tr>\n",
       "    <tr>\n",
       "      <th>Standard</th>\n",
       "      <td>80.26</td>\n",
       "      <td>1550.71</td>\n",
       "      <td>20.15</td>\n",
       "      <td>4.92</td>\n",
       "      <td>165.87</td>\n",
       "      <td>20.24</td>\n",
       "      <td>20.15</td>\n",
       "      <td>0.0</td>\n",
       "    </tr>\n",
       "    <tr>\n",
       "      <th>Occaisonal_Cust</th>\n",
       "      <td>79.83</td>\n",
       "      <td>1539.89</td>\n",
       "      <td>19.69</td>\n",
       "      <td>5.02</td>\n",
       "      <td>143.47</td>\n",
       "      <td>20.34</td>\n",
       "      <td>19.69</td>\n",
       "      <td>2.0</td>\n",
       "    </tr>\n",
       "  </tbody>\n",
       "</table>\n",
       "</div>"
      ],
      "text/plain": [
       "                 Quantity  Monetary  Product_SKU_Count  Prod_Cat_Count  \\\n",
       "Type                                                                     \n",
       "Platinum          3369.60  61737.80             583.80           14.80   \n",
       "Gold              1066.09  19440.23             183.38           11.31   \n",
       "Silver             350.53   7406.45              78.07            8.85   \n",
       "Standard            80.26   1550.71              20.15            4.92   \n",
       "Occaisonal_Cust     79.83   1539.89              19.69            5.02   \n",
       "\n",
       "                 Recency  Discount_pct  Frequency  Cluster_5  \n",
       "Type                                                          \n",
       "Platinum           30.20         19.77     583.80        1.0  \n",
       "Gold               78.69         19.09     183.38        4.0  \n",
       "Silver            115.01         19.10      78.07        3.0  \n",
       "Standard          165.87         20.24      20.15        0.0  \n",
       "Occaisonal_Cust   143.47         20.34      19.69        2.0  "
      ]
     },
     "execution_count": 117,
     "metadata": {},
     "output_type": "execute_result"
    }
   ],
   "source": [
    "np.round(cluster_5.groupby(\"Type\").mean(),2).sort_values(by=\"Monetary\",ascending=False)"
   ]
  },
  {
   "cell_type": "code",
   "execution_count": 135,
   "metadata": {},
   "outputs": [
    {
     "data": {
      "text/plain": [
       "Type\n",
       "Platinum           67.344151\n",
       "Gold               21.205579\n",
       "Silver              8.079023\n",
       "Standard            1.691529\n",
       "Occaisonal_Cust     1.679726\n",
       "Name: Monetary, dtype: float64"
      ]
     },
     "execution_count": 135,
     "metadata": {},
     "output_type": "execute_result"
    }
   ],
   "source": [
    "((np.round(cluster_5.groupby(\"Type\").mean(),2).sort_values(by=\"Monetary\",ascending=False).Monetary)/cluster_5.groupby(\"Type\").mean().sort_values(by=\"Monetary\",ascending=False).Monetary.sum())*100"
   ]
  },
  {
   "cell_type": "markdown",
   "metadata": {},
   "source": [
    "# <Font color=\"Orange\">Observation </font> \n",
    "#### From the above segments we can conclude\n",
    "* Segment 1 -> Platinum Customers\n",
    "* Segment 4 -> Gold Customers\n",
    "* Segment 3 -> Silver Customers\n",
    "* Segment 0 -> Standard Customer\n",
    "* Segment 2 -> Visiting Customers\n",
    "### Note: Platinuma and Silver customers alone contribute 81.5% of the revenue"
   ]
  },
  {
   "cell_type": "markdown",
   "metadata": {},
   "source": []
  }
 ],
 "metadata": {
  "kernelspec": {
   "display_name": "Python 3.9.12 ('base')",
   "language": "python",
   "name": "python3"
  },
  "language_info": {
   "codemirror_mode": {
    "name": "ipython",
    "version": 3
   },
   "file_extension": ".py",
   "mimetype": "text/x-python",
   "name": "python",
   "nbconvert_exporter": "python",
   "pygments_lexer": "ipython3",
   "version": "3.9.12"
  },
  "orig_nbformat": 4,
  "vscode": {
   "interpreter": {
    "hash": "ad2bdc8ecc057115af97d19610ffacc2b4e99fae6737bb82f5d7fb13d2f2c186"
   }
  }
 },
 "nbformat": 4,
 "nbformat_minor": 2
}
